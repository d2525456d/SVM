{
  "nbformat": 4,
  "nbformat_minor": 0,
  "metadata": {
    "colab": {
      "provenance": []
    },
    "kernelspec": {
      "name": "python3",
      "display_name": "Python 3"
    },
    "language_info": {
      "name": "python"
    }
  },
  "cells": [
    {
      "cell_type": "code",
      "source": [
        "from sklearn.model_selection import train_test_split\n",
        "from sklearn.metrics import accuracy_score\n",
        "from sklearn import svm\n",
        "import numpy as np\n",
        "import matplotlib.pyplot as plt\n",
        "from sklearn import datasets\n",
        "from sklearn.model_selection import GridSearchCV\n",
        "from sklearn.datasets import fetch_openml\n",
        "from sklearn.model_selection import train_test_split, cross_val_score\n",
        "from sklearn.svm import SVC\n"
      ],
      "metadata": {
        "id": "dEKIrb_o6fBb"
      },
      "execution_count": null,
      "outputs": []
    },
    {
      "cell_type": "code",
      "execution_count": null,
      "metadata": {
        "colab": {
          "base_uri": "https://localhost:8080/",
          "height": 607
        },
        "id": "dcNbxpydPQ7f",
        "outputId": "19312723-ed76-4afd-d139-85fc7efc8dd3"
      },
      "outputs": [
        {
          "output_type": "display_data",
          "data": {
            "text/plain": [
              "<Figure size 600x600 with 16 Axes>"
            ],
            "image/png": "[encoded data removed]"
          },
          "metadata": {}
        }
      ],
      "source": [
        "# Tải bộ dữ liệu MNIST\n",
        "digits = datasets.load_digits()\n",
        "\n",
        "# Hiển thị một số ảnh từ bộ dữ liệu\n",
        "fig, axes = plt.subplots(nrows=4, ncols=4, figsize=(6, 6))\n",
        "for ax, img, label in zip(axes.flatten(), digits.images, digits.target):\n",
        "    ax.imshow(img, cmap='gray')\n",
        "    ax.set_title(label)\n",
        "    ax.axis('off')\n",
        "plt.tight_layout()\n",
        "plt.show()"
      ]
    },
    {
      "cell_type": "code",
      "source": [
        "# Chia dữ liệu thành tập train và tập test\n",
        "X_train, X_test, y_train, y_test = train_test_split(digits.data, digits.target, random_state=0)\n",
        "\n",
        "# Huấn luyện mô hình SVM\n",
        "clf = svm.SVC()\n",
        "clf.fit(X_train, y_train)\n",
        "\n",
        "# Đánh giá độ chính xác của mô hình trên tập kiểm tra\n",
        "y_pred = clf.predict(X_test)\n",
        "acc = accuracy_score(y_test, y_pred)\n",
        "print(\"Accuracy:\", acc)"
      ],
      "metadata": {
        "colab": {
          "base_uri": "https://localhost:8080/"
        },
        "id": "4BDjuYAMS3jd",
        "outputId": "c878db09-16d6-4c3f-87c1-5836c3c21c93"
      },
      "execution_count": null,
      "outputs": [
        {
          "output_type": "stream",
          "name": "stdout",
          "text": [
            "Accuracy: 0.9911111111111112\n"
          ]
        }
      ]
    },
    {
      "cell_type": "code",
      "source": [
        "# Tìm kiếm các giá trị tối ưu cho các tham số C và gamma\n",
        "param_grid = {'C': [1, 3, 5, 7,10, 30, 50, 70, 100], 'gamma': [0.1, 0.3, 0.5, 0.7, 1, 3, 5, 7 ,10]}\n",
        "grid = GridSearchCV(svm.SVC(), param_grid, cv=5)\n",
        "grid.fit(X_train, y_train)\n",
        "\n",
        "# In ra các giá trị tối ưu cho các tham số C và gamma\n",
        "print(\"Best parameters:\", grid.best_params_)"
      ],
      "metadata": {
        "colab": {
          "base_uri": "https://localhost:8080/"
        },
        "id": "f_wyLaUNS7gB",
        "outputId": "74d8ab60-fcbe-4a52-abdf-dc09c54dcbd1"
      },
      "execution_count": null,
      "outputs": [
        {
          "output_type": "stream",
          "name": "stdout",
          "text": [
            "Best parameters: {'C': 1, 'gamma': 0.1}\n"
          ]
        }
      ]
    },
    {
      "cell_type": "code",
      "source": [
        "# Huấn luyện mô hình SVM với các giá trị tối ưu\n",
        "clf = svm.SVC(C=1, gamma=0.1)\n",
        "clf.fit(X_test, y_test)\n",
        "\n",
        "# Đánh giá độ chính xác của mô hình trên tập kiểm tra\n",
        "y_pred = clf.predict(X_test)\n",
        "acc = accuracy_score(y_test, y_pred)\n",
        "print(\"Accuracy:\", acc)"
      ],
      "metadata": {
        "colab": {
          "base_uri": "https://localhost:8080/"
        },
        "id": "ujIbPjSBTDUv",
        "outputId": "020b6d91-4279-4304-8f81-81451ba35517"
      },
      "execution_count": null,
      "outputs": [
        {
          "output_type": "stream",
          "name": "stdout",
          "text": [
            "Accuracy: 1.0\n"
          ]
        }
      ]
    },
    {
      "cell_type": "code",
      "source": [
        "# Tạo một mảng để lưu độ chính xác của các mô hình SVM với các giá trị khác nhau của C và gamma\n",
        "acc_list = np.zeros((3, 3))\n",
        "\n",
        "# Lặp qua các giá trị của C và gamma để huấn luyện mô hình và tính toán độ chính xác\n",
        "for i, C in enumerate([1, 10, 100]):\n",
        "    for j, gamma in enumerate([0.1, 1, 10]):\n",
        "        clf = svm.SVC(C=C, gamma=gamma)\n",
        "        clf.fit(X_train, y_train)\n",
        "        y_pred = clf.predict(X_test)\n",
        "        acc = accuracy_score(y_test, y_pred)\n",
        "        acc_list[i, j] = acc\n",
        "\n",
        "# Vẽ biểu đồ\n",
        "plt.figure(figsize=(6, 6))\n",
        "plt.subplots_adjust(left=.2, right=0.95, bottom=0.15, top=0.95)\n",
        "plt.imshow(acc_list, interpolation='nearest', cmap=plt.cm.hot)\n",
        "plt.xlabel('gamma')\n",
        "plt.ylabel('C')\n",
        "plt.colorbar()\n",
        "plt.xticks(np.arange(3), [0.1, 1, 10])\n",
        "plt.yticks(np.arange(3), [1, 10, 100])\n",
        "plt.title('Accuracy for SVM')\n",
        "plt.show()"
      ],
      "metadata": {
        "colab": {
          "base_uri": "https://localhost:8080/",
          "height": 525
        },
        "id": "KSoNM2_9Wd5_",
        "outputId": "0f8df756-a88a-4755-f81f-fefdfcc03976"
      },
      "execution_count": null,
      "outputs": [
        {
          "output_type": "display_data",
          "data": {
            "text/plain": [
              "<Figure size 600x600 with 2 Axes>"
            ],
            "image/png": "[encoded data removed]"
          },
          "metadata": {}
        }
      ]
    },
    {
      "cell_type": "code",
      "source": [
        "\n",
        "X_train, X_test, y_train, y_test = train_test_split(digits.data, digits.target, test_size=0.2, random_state=42)\n",
        "\n",
        "svm = SVC()\n",
        "svm.fit(X_train, y_train)\n",
        "\n",
        "\n",
        "scores = cross_val_score(svm, X_train, y_train, cv=5)\n",
        "print(f\"Cross-validation scores: {scores}\")\n",
        "print(f\"Mean cross-validation score: {scores.mean()}\")\n",
        "\n"
      ],
      "metadata": {
        "colab": {
          "base_uri": "https://localhost:8080/"
        },
        "id": "xqMqUfioWrva",
        "outputId": "da7a7a0a-9fc2-41c4-b13b-2db6f53a4090"
      },
      "execution_count": null,
      "outputs": [
        {
          "output_type": "stream",
          "name": "stdout",
          "text": [
            "Cross-validation scores: [0.98958333 0.98263889 0.97560976 0.99303136 0.98954704]\n",
            "Mean cross-validation score: 0.9860820751064654\n"
          ]
        }
      ]
    }
  ]
}